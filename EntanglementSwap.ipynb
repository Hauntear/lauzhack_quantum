{
 "cells": [
  {
   "cell_type": "markdown",
   "id": "3b2d29e1",
   "metadata": {},
   "source": [
    "# QCA Lauzhack participation\n",
    "\n",
    "### _Problem x_ : Entanglement swapping"
   ]
  },
  {
   "cell_type": "markdown",
   "id": "ff336fd9",
   "metadata": {},
   "source": [
    "The aim of this problem is to transfer entanglement to a set of qubits that were independant initially. In order to do so, you will use python library Qiskit. "
   ]
  },
  {
   "cell_type": "code",
   "execution_count": 30,
   "id": "cb9977db",
   "metadata": {},
   "outputs": [],
   "source": [
    "#these are all you need to solve the problem, but you can ofc import other stuff you would need\n",
    "from qiskit import QuantumCircuit\n",
    "from qiskit.quantum_info import Statevector\n",
    "from qiskit.visualization import array_to_latex\n",
    "from qiskit import QuantumCircuit, Aer, assemble\n",
    "from qiskit.visualization import plot_histogram, plot_bloch_multivector\n",
    "import numpy as np\n",
    "import matplotlib.pyplot as plt"
   ]
  },
  {
   "cell_type": "markdown",
   "id": "240eaa70",
   "metadata": {},
   "source": [
    "Consider 6 qubits named 1,2,3,4,5,6. These qubits are initially prepared in EPR pair (these are the maximally entangled 2-qubits states) such that the total initial state is given by $|\\Psi\\rangle = |\\Phi^-\\rangle_{1,2} \\otimes |\\Phi^-\\rangle_{3,4} \\otimes  |\\Phi^-\\rangle_{5,6}$, with $|\\Phi^-\\rangle = \\frac{|00\\rangle - |11\\rangle}{\\sqrt{2}}$. So first, using Qiskit, define a circuit which will produce this state."
   ]
  },
  {
   "cell_type": "code",
   "execution_count": 31,
   "id": "38021ead",
   "metadata": {},
   "outputs": [
    {
     "name": "stdout",
     "output_type": "stream",
     "text": [
      "Statevector([ 0.35355339+0.j,  0.        +0.j,  0.        +0.j,\n",
      "             -0.35355339+0.j,  0.        +0.j,  0.        +0.j,\n",
      "              0.        +0.j,  0.        +0.j,  0.        +0.j,\n",
      "              0.        +0.j,  0.        +0.j,  0.        +0.j,\n",
      "             -0.35355339+0.j,  0.        +0.j,  0.        +0.j,\n",
      "              0.35355339+0.j,  0.        +0.j,  0.        +0.j,\n",
      "              0.        +0.j,  0.        +0.j,  0.        +0.j,\n",
      "              0.        +0.j,  0.        +0.j,  0.        +0.j,\n",
      "              0.        +0.j,  0.        +0.j,  0.        +0.j,\n",
      "              0.        +0.j,  0.        +0.j,  0.        +0.j,\n",
      "              0.        +0.j,  0.        +0.j,  0.        +0.j,\n",
      "              0.        +0.j,  0.        +0.j,  0.        +0.j,\n",
      "              0.        +0.j,  0.        +0.j,  0.        +0.j,\n",
      "              0.        +0.j,  0.        +0.j,  0.        +0.j,\n",
      "              0.        +0.j,  0.        +0.j,  0.        +0.j,\n",
      "              0.        +0.j,  0.        +0.j,  0.        +0.j,\n",
      "             -0.35355339+0.j,  0.        +0.j,  0.        +0.j,\n",
      "              0.35355339+0.j,  0.        +0.j,  0.        +0.j,\n",
      "              0.        +0.j,  0.        +0.j,  0.        +0.j,\n",
      "              0.        +0.j,  0.        +0.j,  0.        +0.j,\n",
      "              0.35355339+0.j,  0.        +0.j,  0.        +0.j,\n",
      "             -0.35355339+0.j],\n",
      "            dims=(2, 2, 2, 2, 2, 2))\n",
      "Statevector([ 1.00000000e+00+0.j,  2.36158002e-17+0.j,  0.00000000e+00+0.j,\n",
      "              0.00000000e+00+0.j,  9.52420783e-18+0.j,  1.26316153e-34+0.j,\n",
      "              0.00000000e+00+0.j,  0.00000000e+00+0.j,  0.00000000e+00+0.j,\n",
      "              0.00000000e+00+0.j,  0.00000000e+00+0.j,  0.00000000e+00+0.j,\n",
      "              0.00000000e+00+0.j,  0.00000000e+00+0.j,  0.00000000e+00+0.j,\n",
      "              0.00000000e+00+0.j,  6.22328532e-19+0.j, -1.21839471e-35+0.j,\n",
      "              0.00000000e+00+0.j,  0.00000000e+00+0.j,  1.92058443e-35+0.j,\n",
      "              1.90505075e-52+0.j,  0.00000000e+00+0.j,  0.00000000e+00+0.j,\n",
      "              0.00000000e+00+0.j,  0.00000000e+00+0.j,  0.00000000e+00+0.j,\n",
      "              0.00000000e+00+0.j,  0.00000000e+00+0.j,  0.00000000e+00+0.j,\n",
      "              0.00000000e+00+0.j,  0.00000000e+00+0.j,  0.00000000e+00+0.j,\n",
      "              0.00000000e+00+0.j,  0.00000000e+00+0.j,  0.00000000e+00+0.j,\n",
      "              0.00000000e+00+0.j,  0.00000000e+00+0.j,  0.00000000e+00+0.j,\n",
      "              0.00000000e+00+0.j,  0.00000000e+00+0.j,  0.00000000e+00+0.j,\n",
      "              0.00000000e+00+0.j,  0.00000000e+00+0.j,  0.00000000e+00+0.j,\n",
      "              0.00000000e+00+0.j,  0.00000000e+00+0.j,  0.00000000e+00+0.j,\n",
      "              0.00000000e+00+0.j,  0.00000000e+00+0.j,  0.00000000e+00+0.j,\n",
      "              0.00000000e+00+0.j,  0.00000000e+00+0.j,  0.00000000e+00+0.j,\n",
      "              0.00000000e+00+0.j,  0.00000000e+00+0.j,  0.00000000e+00+0.j,\n",
      "              0.00000000e+00+0.j,  0.00000000e+00+0.j,  0.00000000e+00+0.j,\n",
      "              0.00000000e+00+0.j,  0.00000000e+00+0.j,  0.00000000e+00+0.j,\n",
      "              0.00000000e+00+0.j],\n",
      "            dims=(2, 2, 2, 2, 2, 2))\n"
     ]
    }
   ],
   "source": [
    "## your code here : implement a circuit producing \\Psi\n",
    "svsim = Aer.get_backend('aer_simulator')\n",
    "\n",
    "make_state = QuantumCircuit(6)\n",
    "make_state.h(0)\n",
    "make_state.cx(0,1)\n",
    "make_state.z(1)\n",
    "\n",
    "make_state.h(2)\n",
    "make_state.cx(2,3)\n",
    "make_state.z(3)\n",
    "\n",
    "make_state.h(4)\n",
    "make_state.cx(4,5)\n",
    "make_state.z(5)\n",
    "\n",
    "state_forward = Statevector.from_instruction(make_state)\n",
    "print(state_forward)\n",
    "\n",
    "state_backward = state_forward.evolve(make_state.inverse())\n",
    "print(state_backward)"
   ]
  },
  {
   "cell_type": "code",
   "execution_count": 32,
   "id": "91c38a2e",
   "metadata": {},
   "outputs": [
    {
     "data": {
      "text/html": [
       "<pre style=\"word-wrap: normal;white-space: pre;background: #fff0;line-height: 1.1;font-family: &quot;Courier New&quot;,Courier,monospace\">     ┌───┐          \n",
       "q_0: ┤ H ├──■───────\n",
       "     └───┘┌─┴─┐┌───┐\n",
       "q_1: ─────┤ X ├┤ Z ├\n",
       "     ┌───┐└───┘└───┘\n",
       "q_2: ┤ H ├──■───────\n",
       "     └───┘┌─┴─┐┌───┐\n",
       "q_3: ─────┤ X ├┤ Z ├\n",
       "     ┌───┐└───┘└───┘\n",
       "q_4: ┤ H ├──■───────\n",
       "     └───┘┌─┴─┐┌───┐\n",
       "q_5: ─────┤ X ├┤ Z ├\n",
       "          └───┘└───┘</pre>"
      ],
      "text/plain": [
       "     ┌───┐          \n",
       "q_0: ┤ H ├──■───────\n",
       "     └───┘┌─┴─┐┌───┐\n",
       "q_1: ─────┤ X ├┤ Z ├\n",
       "     ┌───┐└───┘└───┘\n",
       "q_2: ┤ H ├──■───────\n",
       "     └───┘┌─┴─┐┌───┐\n",
       "q_3: ─────┤ X ├┤ Z ├\n",
       "     ┌───┐└───┘└───┘\n",
       "q_4: ┤ H ├──■───────\n",
       "     └───┘┌─┴─┐┌───┐\n",
       "q_5: ─────┤ X ├┤ Z ├\n",
       "          └───┘└───┘"
      ]
     },
     "execution_count": 32,
     "metadata": {},
     "output_type": "execute_result"
    }
   ],
   "source": [
    "make_state.draw()"
   ]
  },
  {
   "cell_type": "markdown",
   "id": "47afce60",
   "metadata": {},
   "source": [
    "Once you have this state, imagine that qubits 1,3,5 are in some place together (e.g on EPFL campus), and that qubits 2,4,6 are in some other places far away, let's say the moon. Now, a local measurement is done on qubits 1,3,5, which projects these on a GHZ state, given by $|GHZ\\rangle = \\frac{|000\\rangle + |111\\rangle}{\\sqrt{2}}$ (it is maximally entangled). "
   ]
  },
  {
   "cell_type": "markdown",
   "id": "765e9bec",
   "metadata": {},
   "source": [
    "Using Qiskit class Statevector, implement the code doing the local measurement on your state $|\\Psi\\rangle$. To do so, use the Statevector class of Qiskit and create the projector corresponding to the local measureament made on 1,3,5."
   ]
  },
  {
   "cell_type": "code",
   "execution_count": 33,
   "id": "3b08c5cd",
   "metadata": {},
   "outputs": [
    {
     "data": {
      "text/html": [
       "<pre style=\"word-wrap: normal;white-space: pre;background: #fff0;line-height: 1.1;font-family: &quot;Courier New&quot;,Courier,monospace\">     ┌───┐                    \n",
       "q_0: ┤ H ├──■─────────■───────\n",
       "     └───┘┌─┴─┐┌───┐  │       \n",
       "q_1: ─────┤ X ├┤ Z ├──┼───────\n",
       "     ┌───┐└───┘└───┘┌─┴─┐     \n",
       "q_2: ┤ H ├──■───────┤ X ├──■──\n",
       "     └───┘┌─┴─┐┌───┐└───┘  │  \n",
       "q_3: ─────┤ X ├┤ Z ├───────┼──\n",
       "     ┌───┐└───┘└───┘     ┌─┴─┐\n",
       "q_4: ┤ H ├──■────────────┤ X ├\n",
       "     └───┘┌─┴─┐┌───┐     └───┘\n",
       "q_5: ─────┤ X ├┤ Z ├──────────\n",
       "          └───┘└───┘          </pre>"
      ],
      "text/plain": [
       "     ┌───┐                    \n",
       "q_0: ┤ H ├──■─────────■───────\n",
       "     └───┘┌─┴─┐┌───┐  │       \n",
       "q_1: ─────┤ X ├┤ Z ├──┼───────\n",
       "     ┌───┐└───┘└───┘┌─┴─┐     \n",
       "q_2: ┤ H ├──■───────┤ X ├──■──\n",
       "     └───┘┌─┴─┐┌───┐└───┘  │  \n",
       "q_3: ─────┤ X ├┤ Z ├───────┼──\n",
       "     ┌───┐└───┘└───┘     ┌─┴─┐\n",
       "q_4: ┤ H ├──■────────────┤ X ├\n",
       "     └───┘┌─┴─┐┌───┐     └───┘\n",
       "q_5: ─────┤ X ├┤ Z ├──────────\n",
       "          └───┘└───┘          "
      ]
     },
     "execution_count": 33,
     "metadata": {},
     "output_type": "execute_result"
    }
   ],
   "source": [
    "## your code here : implement the projector\n",
    "\n",
    "make_state.h(0)\n",
    "make_state.cx(0,2)\n",
    "make_state.cx(2,4)\n",
    "make_state.draw()"
   ]
  },
  {
   "cell_type": "code",
   "execution_count": 34,
   "id": "0468ace4",
   "metadata": {},
   "outputs": [
    {
     "data": {
      "image/png": "[encoded data removed]",
      "text/plain": [
       "<Figure size 700x500 with 1 Axes>"
      ]
     },
     "execution_count": 34,
     "metadata": {},
     "output_type": "execute_result"
    }
   ],
   "source": [
    "make_state.save_statevector()\n",
    "qobj = assemble(make_state)\n",
    "result = svsim.run(qobj).result()\n",
    "# Print the statevector neatly:\n",
    "final_state = result.get_statevector()\n",
    "array_to_latex(final_state, prefix=\"\\\\text{Statevector = }\")\n",
    "plot_histogram(result.get_counts())"
   ]
  },
  {
   "cell_type": "markdown",
   "id": "ef27d21f",
   "metadata": {},
   "source": [
    "Once it's done you can finally evolve your initial state $|\\Psi\\rangle$ with the projector, and obtain the final state."
   ]
  },
  {
   "cell_type": "code",
   "execution_count": 35,
   "id": "79f2cef4",
   "metadata": {},
   "outputs": [],
   "source": [
    "## your code here : do the total evolution to obtain final state"
   ]
  },
  {
   "cell_type": "markdown",
   "id": "5a46a8a4",
   "metadata": {},
   "source": [
    "What is the state of 2,4,6 now ? Can you see why is it called entanglement swapping ? Hint : you might need Statevector methods Statevector.evolve() and Statevector.to_operator()"
   ]
  },
  {
   "cell_type": "code",
   "execution_count": null,
   "id": "c4067710",
   "metadata": {},
   "outputs": [],
   "source": []
  }
 ],
 "metadata": {
  "kernelspec": {
   "display_name": "Python 3.10.8 ('lauz')",
   "language": "python",
   "name": "python3"
  },
  "language_info": {
   "codemirror_mode": {
    "name": "ipython",
    "version": 3
   },
   "file_extension": ".py",
   "mimetype": "text/x-python",
   "name": "python",
   "nbconvert_exporter": "python",
   "pygments_lexer": "ipython3",
   "version": "3.10.8"
  },
  "vscode": {
   "interpreter": {
    "hash": "68a029b4a85c9f48a9ef7a502ff1e8410c2c001e85867e442bd0101ee84a9957"
   }
  }
 },
 "nbformat": 4,
 "nbformat_minor": 5
}
